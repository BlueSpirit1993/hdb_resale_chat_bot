{
 "cells": [
  {
   "cell_type": "code",
   "execution_count": 1,
   "metadata": {},
   "outputs": [],
   "source": [
    "import pandas as pd\n",
    "import numpy as np\n",
    "import matplotlib.pyplot as plt\n",
    "import seaborn as sns\n",
    "\n",
    "from sklearn.preprocessing import OneHotEncoder, MinMaxScaler, PolynomialFeatures\n",
    "from sklearn.linear_model import LinearRegression\n",
    "from sklearn.metrics import mean_squared_error, r2_score\n",
    "from sklearn.pipeline import make_pipeline"
   ]
  },
  {
   "cell_type": "markdown",
   "metadata": {},
   "source": [
    "Bring in the separate csvs and concat into a single file"
   ]
  },
  {
   "cell_type": "code",
   "execution_count": 2,
   "metadata": {},
   "outputs": [],
   "source": [
    "df1 = pd.read_csv('../raw_data/ResaleFlatPricesBasedonApprovalDate19901999.csv')\n",
    "df2 = pd.read_csv('../raw_data/ResaleFlatPricesBasedonApprovalDate2000Feb2012.csv')\n",
    "df3 = pd.read_csv('../raw_data/ResaleFlatPricesBasedonRegistrationDateFromMar2012toDec2014.csv')\n",
    "df4 = pd.read_csv('../raw_data/ResaleFlatPricesBasedonRegistrationDateFromJan2015toDec2016.csv')\n",
    "df5 = pd.read_csv('../raw_data/ResaleflatpricesbasedonregistrationdatefromJan2017onwards.csv')"
   ]
  },
  {
   "cell_type": "code",
   "execution_count": 3,
   "metadata": {},
   "outputs": [
    {
     "name": "stdout",
     "output_type": "stream",
     "text": [
      "Column names do not match.\n"
     ]
    }
   ],
   "source": [
    "if (df1.columns.equals(df2.columns) and\n",
    "    df1.columns.equals(df3.columns) and\n",
    "    df1.columns.equals(df4.columns) and\n",
    "    df1.columns.equals(df5.columns)):\n",
    "    print(\"All DataFrames have the same column names.\")\n",
    "else:\n",
    "    print(\"Column names do not match.\")"
   ]
  },
  {
   "cell_type": "code",
   "execution_count": 4,
   "metadata": {},
   "outputs": [
    {
     "name": "stdout",
     "output_type": "stream",
     "text": [
      "Differences between df1 and df4: {'remaining_lease'}\n",
      "Differences between df1 and df5: {'remaining_lease'}\n"
     ]
    }
   ],
   "source": [
    "for i, df in enumerate([df2, df3, df4, df5], start=2):\n",
    "    diff = set(df1.columns).symmetric_difference(df.columns)\n",
    "    if diff:\n",
    "        print(f\"Differences between df1 and df{i}: {diff}\")\n"
   ]
  },
  {
   "cell_type": "code",
   "execution_count": null,
   "metadata": {},
   "outputs": [],
   "source": []
  },
  {
   "cell_type": "code",
   "execution_count": null,
   "metadata": {},
   "outputs": [],
   "source": []
  },
  {
   "cell_type": "code",
   "execution_count": null,
   "metadata": {},
   "outputs": [],
   "source": []
  },
  {
   "cell_type": "code",
   "execution_count": null,
   "metadata": {},
   "outputs": [],
   "source": []
  },
  {
   "cell_type": "code",
   "execution_count": null,
   "metadata": {},
   "outputs": [],
   "source": []
  }
 ],
 "metadata": {
  "kernelspec": {
   "display_name": "hdb_resale_chat_bot",
   "language": "python",
   "name": "python3"
  },
  "language_info": {
   "codemirror_mode": {
    "name": "ipython",
    "version": 3
   },
   "file_extension": ".py",
   "mimetype": "text/x-python",
   "name": "python",
   "nbconvert_exporter": "python",
   "pygments_lexer": "ipython3",
   "version": "3.10.6"
  }
 },
 "nbformat": 4,
 "nbformat_minor": 2
}
